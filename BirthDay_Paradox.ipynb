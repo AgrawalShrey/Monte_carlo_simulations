{
  "nbformat": 4,
  "nbformat_minor": 0,
  "metadata": {
    "colab": {
      "name": "BirthDay Paradox",
      "provenance": [],
      "collapsed_sections": []
    },
    "kernelspec": {
      "name": "python3",
      "display_name": "Python 3"
    },
    "accelerator": "TPU"
  },
  "cells": [
   
    {
      "cell_type": "markdown",
      "metadata": {
        "id": "ZrYey_QLR3Gv"
      },
      "source": [
        "# Importing the Libraries"
      ]
    },
    {
      "cell_type": "code",
      "metadata": {
        "id": "e3gQLEvNXfBy"
      },
      "source": [
        "import random\n",
        "import numpy as np\n",
        "import matplotlib.pyplot as plt"
      ],
      "execution_count": null,
      "outputs": []
    },
    {
      "cell_type": "markdown",
      "metadata": {
        "id": "q3GECODPSCd0"
      },
      "source": [
        "# Defining function for BirthDay Paradox simulation"
      ]
    },
    {
      "cell_type": "code",
      "metadata": {
        "id": "zJHTJIxjRdxh"
      },
      "source": [
        "def MonteCarloBDay(num_people,num_simu):\n",
        "    Bool = np.zeros(num_simu)\n",
        "    for i in range(num_simu):\n",
        "        test = np.random.choice(range(365),size=num_people, replace=True)\n",
        "        Bool[i] = (len(set(test))!=num_people) \n",
        "    probability = np.mean(Bool)\n",
        "    if probability > 0.6:\n",
        "      pass\n",
        "    else:\n",
        "      return probability\n"
      ],
      "execution_count": null,
      "outputs": []
    },
    {
      "cell_type": "markdown",
      "metadata": {
        "id": "e-1D6w8zSPP-"
      },
      "source": [
        "# Inputs for BirthDay Paradox problem"
      ]
    },
    {
      "cell_type": "code",
      "metadata": {
        "id": "Yh0haUBlReSZ"
      },
      "source": [
        "Number_of_people = np.arange(2,100)\n",
        "probability_atleast_1pair = np.array([MonteCarloBDay(n, 1000) for n in Number_of_people])"
      ],
      "execution_count": null,
      "outputs": []
    },
    {
      "cell_type": "code",
      "metadata": {
        "id": "q-290JqDj8te",
        "outputId": "dd51515a-9b34-4fbe-f2e5-cce4b0048494",
        "colab": {
          "base_uri": "https://localhost:8080/"
        }
      },
      "source": [
        "probability_atleast_1pair.shape"
      ],
      "execution_count": null,
      "outputs": [
        {
          "output_type": "execute_result",
          "data": {
            "text/plain": [
              "(98,)"
            ]
          },
          "metadata": {
            "tags": []
          },
          "execution_count": 4
        }
      ]
    },
    {
      "cell_type": "markdown",
      "metadata": {
        "id": "dxCfxNTjSVIH"
      },
      "source": [
        "# Ploting the results"
      ]
    },
    {
      "cell_type": "code",
      "metadata": {
        "id": "b07u9GAJRl6v",
        "outputId": "bca6889e-88e2-4d68-b438-3404e31c3f0d",
        "colab": {
          "base_uri": "https://localhost:8080/",
          "height": 295
        }
      },
      "source": [
        "plt.plot(Number_of_people, probability_atleast_1pair)\n",
        "plt.xlabel('Number of people')\n",
        "plt.ylabel('probability atleast 1 same B.Day pair')\n",
        "plt.title('BirthDay paradox')\n",
        "plt.legend(['atleast 1 pair'])\n",
        "plt.grid(True)\n",
        "plt.xticks(np.arange(0, len(set(probability_atleast_1pair))+1, 1.0))\n",
        "plt.show()"
      ],
      "execution_count": null,
      "outputs": [
        {
          "output_type": "display_data",
          "data": {
            "image/png": "[encoded data removed]",
            "text/plain": [
              "<Figure size 432x288 with 1 Axes>"
            ]
          },
          "metadata": {
            "tags": [],
            "needs_background": "light"
          }
        }
      ]
    }
  ]
}
